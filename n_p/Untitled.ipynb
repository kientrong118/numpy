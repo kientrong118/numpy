{
 "cells": [
  {
   "cell_type": "code",
   "execution_count": null,
   "id": "320fa977-6c34-4909-b645-c3083f1bd084",
   "metadata": {},
   "outputs": [],
   "source": [
    "import numpy as np\n"
   ]
  },
  {
   "cell_type": "code",
   "execution_count": 1,
   "id": "49701707-3416-429b-ad12-df1195024c38",
   "metadata": {},
   "outputs": [
    {
     "data": {
      "text/plain": [
       "([3, 3], [2, 2])"
      ]
     },
     "execution_count": 1,
     "metadata": {},
     "output_type": "execute_result"
    }
   ],
   "source": [
    "[3,3],[2,2]\n"
   ]
  },
  {
   "cell_type": "code",
   "execution_count": null,
   "id": "49e00ba8-42c1-4fc9-83e4-968abf8d3e6f",
   "metadata": {},
   "outputs": [],
   "source": []
  },
  {
   "cell_type": "code",
   "execution_count": null,
   "id": "f2739db3-2a39-4863-9e84-d28c78a5afda",
   "metadata": {},
   "outputs": [],
   "source": []
  },
  {
   "cell_type": "code",
   "execution_count": 2,
   "id": "9fce2be4-6c79-4b1d-bbb6-86a3754639be",
   "metadata": {},
   "outputs": [
    {
     "data": {
      "text/plain": [
       "([3, 2], [3, 3], [5, 5])"
      ]
     },
     "execution_count": 2,
     "metadata": {},
     "output_type": "execute_result"
    }
   ],
   "source": [
    "[3,2],[3,3],[5,5]"
   ]
  },
  {
   "cell_type": "code",
   "execution_count": null,
   "id": "e4bb1895-794b-4de9-bf46-cf2779be2673",
   "metadata": {},
   "outputs": [],
   "source": [
    "<img src="
   ]
  }
 ],
 "metadata": {
  "kernelspec": {
   "display_name": "Python 3 (ipykernel)",
   "language": "python",
   "name": "python3"
  },
  "language_info": {
   "codemirror_mode": {
    "name": "ipython",
    "version": 3
   },
   "file_extension": ".py",
   "mimetype": "text/x-python",
   "name": "python",
   "nbconvert_exporter": "python",
   "pygments_lexer": "ipython3",
   "version": "3.11.5"
  }
 },
 "nbformat": 4,
 "nbformat_minor": 5
}
